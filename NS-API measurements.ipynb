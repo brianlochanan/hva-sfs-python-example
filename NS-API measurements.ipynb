{
 "cells": [
  {
   "cell_type": "markdown",
   "metadata": {},
   "source": [
    "In this assingment there is done a measure of how many train stations are affected by a disruption with the NS-API. Here we can see what trainstation has the most disruptions. Also we can see the total amount of disruptions for all trainstations. Next, there is a measure of the most disruptions per trainstation. Finally, there is a measure of the trainstation with the most delay in seconds."
   ]
  },
  {
   "cell_type": "markdown",
   "metadata": {},
   "source": [
    "Import required packages."
   ]
  },
  {
   "cell_type": "code",
   "execution_count": 1,
   "metadata": {},
   "outputs": [],
   "source": [
    "from api.amsterdam_api import AmsterdamApi\n",
    "from api.ns_api import NSApi\n",
    "from collections import Counter"
   ]
  },
  {
   "cell_type": "markdown",
   "metadata": {},
   "source": [
    "Function for getting dict keys by duplicated values. This is used to get a list of the most disruptions per trainstation."
   ]
  },
  {
   "cell_type": "code",
   "execution_count": 2,
   "metadata": {},
   "outputs": [],
   "source": [
    "# Get keys by duplicate values\n",
    "def getKeysByValues(dictOfElements, listOfValues):\n",
    "    listOfKeys = list()\n",
    "    listOfItems = dictOfElements.items()\n",
    "    for item  in listOfItems:\n",
    "        # If value is duplicated then append key to the list\n",
    "        if item[1] in listOfValues:\n",
    "            listOfKeys.append(item[0])\n",
    "    return  listOfKeys\n"
   ]
  },
  {
   "cell_type": "markdown",
   "metadata": {},
   "source": [
    "Measures how many train stations are affected now by a disruption."
   ]
  },
  {
   "cell_type": "code",
   "execution_count": 3,
   "metadata": {},
   "outputs": [
    {
     "name": "stdout",
     "output_type": "stream",
     "text": [
      "NS API Test\n",
      "Percentage of total disruptions is: 51.127819548872175\n"
     ]
    }
   ],
   "source": [
    "print(\"NS API Test\")\n",
    "ns_api = NSApi()\n",
    "\n",
    "# NSApiGet a list of train stations\n",
    "# print(ns_api.get_train_stations())\n",
    "\n",
    "# Get a list of disruptions\n",
    "# print(ns_api.get_disruptions())\n",
    "\n",
    "# Extend all stations with disruptions to get 1 array\n",
    "disruption_list = []\n",
    "for disruption in ns_api.get_disruptions():\n",
    "    disruption_list.extend(disruption.get(\"stations\"))\n",
    "    \n",
    "counter = 0\n",
    "for train_stations in ns_api.get_train_stations():\n",
    "    counter = counter + 1\n",
    "\n",
    "# Get a dict of counters foreach disruption\n",
    "c = (Counter(disruption_list))\n",
    "\n",
    "# Divide the amount of disruptions by the total amount of trainstations\n",
    "print(str(\"Percentage of total disruptions is: \") + str((len(c)/counter)*100))"
   ]
  },
  {
   "cell_type": "markdown",
   "metadata": {},
   "source": [
    "Get total amount of disruptions per trainstation."
   ]
  },
  {
   "cell_type": "code",
   "execution_count": 4,
   "metadata": {},
   "outputs": [
    {
     "name": "stdout",
     "output_type": "stream",
     "text": [
      "Station, Amount of disruption\n",
      "Arnhem Centraal :  6\n",
      "Arnhem Zuid :  3\n",
      "Akkrum :  2\n",
      "Amersfoort :  1\n",
      "Almelo :  4\n",
      "Alkmaar :  2\n",
      "Almelo de Riet :  2\n",
      "Alkmaar Noord :  1\n",
      "Anna Paulowna :  2\n",
      "Alphen a/d Rijn :  2\n",
      "Amsterdam Sloterdijk :  1\n",
      "Breda :  4\n",
      "Bunde :  1\n",
      "Bodegraven :  1\n",
      "Breda-Prinsenbeek :  1\n",
      "Best :  2\n",
      "Baflo :  2\n",
      "Beek-Elsloo :  1\n",
      "Bovenkarspel Flora :  1\n",
      "Bovenkarspel-Grootebroek :  1\n",
      "Boxmeer :  1\n",
      "Borne :  2\n",
      "Barneveld Centrum :  2\n",
      "Bunnik :  1\n",
      "Barneveld Noord :  1\n",
      "Barneveld Zuid :  2\n",
      "Buitenpost :  1\n",
      "Barendrecht :  1\n",
      "Boxtel :  3\n",
      "Castricum :  1\n",
      "Cuijk :  1\n",
      "Culemborg :  1\n",
      "Daarlerveen :  1\n",
      "Driebergen-Zeist :  1\n",
      "Dordrecht :  1\n",
      "Deinum :  1\n",
      "Dronryp :  1\n",
      "Deventer :  2\n",
      "Deventer Colmschate :  2\n",
      "De Westereen :  1\n",
      "Ede-Wageningen :  4\n",
      "Ede Centrum :  2\n",
      "Eemshaven :  1\n",
      "Eindhoven Strijp-S :  2\n",
      "Eindhoven :  2\n",
      "Enkhuizen :  1\n",
      "Elst :  4\n",
      "Franeker :  1\n",
      "Feanwâlden :  1\n",
      "Geldermalsen :  1\n",
      "Grijpskerk :  1\n",
      "Groningen :  3\n",
      "Groningen Noord :  2\n",
      "Grou-Jirnsum :  2\n",
      "Heemstede-Aerdenhout :  1\n",
      "Hardenberg :  1\n",
      "'t Harde :  1\n",
      "Hurdegaryp :  1\n",
      "Den Helder :  2\n",
      "Den Helder Zuid :  2\n",
      "Hengelo :  3\n",
      "Hengelo Oost :  1\n",
      "Hillegom :  1\n",
      "Hoogkarspel :  1\n",
      "Harlingen :  1\n",
      "Harlingen Haven :  1\n",
      "Haarlem :  1\n",
      "Heiloo :  1\n",
      "Hemmen-Dodewaard :  1\n",
      "Hoorn :  1\n",
      "Hoorn Kersenboogerd :  1\n",
      "Hindeloopen :  1\n",
      "Holten :  2\n",
      "Heerenveen :  2\n",
      "Heerlen :  1\n",
      "Heerlen Woonboulevard :  1\n",
      "Heerenveen IJsstadion :  2\n",
      "'s-Hertogenbosch :  2\n",
      "Houten :  1\n",
      "Houten Castellum :  1\n",
      "Hoevelaken :  1\n",
      "Heerhugowaard :  1\n",
      "IJlst :  1\n",
      "Veenendaal-De Klomp :  1\n",
      "Krommenie-Assendelft :  1\n",
      "Klimmen-Ransdaal :  1\n",
      "Koudum-Molkwerum :  1\n",
      "Kampen :  1\n",
      "Kampen Zuid :  1\n",
      "Kesteren :  1\n",
      "Koog aan de Zaan :  1\n",
      "Leiden Lammenschans :  1\n",
      "Leiden Centraal :  2\n",
      "Lunteren :  2\n",
      "Geleen-Lutterade :  1\n",
      "Leeuwarden :  5\n",
      "Leeuwarden Camminghaburen :  1\n",
      "Meerssen :  1\n",
      "Mantgum :  1\n",
      "Mook Molenhoek :  2\n",
      "Meppel :  2\n",
      "Mariënberg :  1\n",
      "Maarn :  2\n",
      "Maastricht :  2\n",
      "Maastricht Noord :  1\n",
      "Maastricht Randwyck :  1\n",
      "Nijmegen :  5\n",
      "Nijmegen Dukenburg :  1\n",
      "Nijmegen Goffert :  1\n",
      "Nijmegen Heyendaal :  1\n",
      "Nijmegen Lent :  3\n",
      "Bad Nieuweschans :  1\n",
      "Oss :  1\n",
      "Oldenzaal :  6\n",
      "Opheusden :  1\n",
      "Oisterwijk :  1\n",
      "Oosterbeek :  1\n",
      "Purmerend Overwhere :  1\n",
      "Purmerend :  1\n",
      "Purmerend Weidevenne :  1\n",
      "Roodeschool :  2\n",
      "Rhenen :  1\n",
      "Rotterdam Lombardijen :  2\n",
      "Rijssen :  3\n",
      "Rotterdam Blaak :  1\n",
      "Rotterdam Centraal :  1\n",
      "Rotterdam Stadion :  1\n",
      "Rotterdam Zuid :  1\n",
      "Ravenstein :  1\n",
      "Houthem-St. Gerlach :  1\n",
      "Schagen :  1\n",
      "Sneek :  1\n",
      "Sneek Noord :  1\n",
      "Schin op Geul :  1\n",
      "Sittard :  1\n",
      "Stavoren :  1\n",
      "Sauwerd :  2\n",
      "Steenwijk :  2\n",
      "Tilburg :  2\n",
      "Tilburg Universiteit :  1\n",
      "Tiel :  1\n",
      "Uithuizermeeden :  2\n",
      "Uithuizen :  2\n",
      "Usquert :  2\n",
      "Utrecht Centraal :  1\n",
      "Uitgeest :  1\n",
      "Utrecht Lunetten :  1\n",
      "Utrecht Vaartsche Rijn :  2\n",
      "Voerendaal :  1\n",
      "Vught :  1\n",
      "Voorhout :  1\n",
      "Vroomshoop :  1\n",
      "Valkenburg :  1\n",
      "Veenendaal Centrum :  1\n",
      "Veenendaal West :  1\n",
      "Vriezenveen :  1\n",
      "Wijchen :  1\n",
      "Wierden :  3\n",
      "Wolfheze :  1\n",
      "Warffum :  2\n",
      "Workum :  1\n",
      "Wormerveer :  1\n",
      "Winsum :  2\n",
      "Wolvega :  2\n",
      "Wezep :  1\n",
      "Zetten-Andelst :  1\n",
      "Zaltbommel :  1\n",
      "Zaandam :  3\n",
      "Zaandam Kogerveld :  1\n",
      "Zuidhorn :  1\n",
      "Zwolle :  3\n",
      "Zevenaar :  1\n",
      "Zwijndrecht :  1\n",
      "Zaandijk Zaanse Schans :  1\n"
     ]
    }
   ],
   "source": [
    "# Get the station with the most disruptions\n",
    "key_with_max_value = (max(c, key=c.get))\n",
    "\n",
    "print(\"Station, Amount of disruption\")\n",
    "for key, value in sorted(c.items()):\n",
    "    for trainstation in ns_api.get_train_stations():\n",
    "            if trainstation.get(\"code\") == str(key).upper():\n",
    "                print(trainstation.get(\"name\"), \": \", value)"
   ]
  },
  {
   "cell_type": "markdown",
   "metadata": {},
   "source": [
    "Get a list of the trainstations with the most disruptions."
   ]
  },
  {
   "cell_type": "code",
   "execution_count": 7,
   "metadata": {},
   "outputs": [
    {
     "name": "stdout",
     "output_type": "stream",
     "text": [
      "\n",
      "Most common disruptions for trainstations: \n",
      "Arnhem Centraal\n",
      "Oldenzaal\n"
     ]
    }
   ],
   "source": [
    "# Get all the stations with the most disruptions\n",
    "listOfKeys = getKeysByValues(c, [c[key_with_max_value]])\n",
    "    \n",
    "print(\"\\nMost common disruptions for trainstations: \")\n",
    "\n",
    "# Iterate over the list of values\n",
    "for key in listOfKeys:\n",
    "    for trainstation in ns_api.get_train_stations():\n",
    "            if trainstation.get(\"code\") == str(key).upper():\n",
    "                print(trainstation.get(\"name\"))"
   ]
  },
  {
   "cell_type": "markdown",
   "metadata": {},
   "source": [
    "Get the trainstation with the most delay in seconds."
   ]
  },
  {
   "cell_type": "code",
   "execution_count": null,
   "metadata": {},
   "outputs": [],
   "source": [
    "# Variable for getting the train station with the most delay in seconds\n",
    "max_sum_seconds = 0\n",
    "\n",
    "# Loop through all the train stations\n",
    "for train_station in ns_api.get_train_stations():\n",
    "\n",
    "    id = train_station.get('id')\n",
    "    sum_seconds = 0\n",
    "\n",
    "    # Loop through all departures for each train station\n",
    "    for delay_in_seconds in ns_api.get_departures(id):\n",
    "        seconds = delay_in_seconds.get('delay_seconds')\n",
    "\n",
    "        # Sum delay seconds for each departure on that trainstation\n",
    "        if seconds != 0:\n",
    "            sum_seconds = sum_seconds + seconds\n",
    "\n",
    "        # Get the train station with the most delay in seconds\n",
    "        if sum_seconds > max_sum_seconds:\n",
    "            max_sum_seconds = sum_seconds\n",
    "            trainstation = train_station.get(\"name\")\n",
    "\n",
    "print(str(\"\\nTrainstation: \") + trainstation + str(\" has the most delay with: \") + str(max_sum_seconds) + str(\" seconds delay.\"))"
   ]
  },
  {
   "cell_type": "code",
   "execution_count": null,
   "metadata": {},
   "outputs": [],
   "source": []
  }
 ],
 "metadata": {
  "kernelspec": {
   "display_name": "Python 3",
   "language": "python",
   "name": "python3"
  },
  "language_info": {
   "codemirror_mode": {
    "name": "ipython",
    "version": 3
   },
   "file_extension": ".py",
   "mimetype": "text/x-python",
   "name": "python",
   "nbconvert_exporter": "python",
   "pygments_lexer": "ipython3",
   "version": "3.7.4"
  }
 },
 "nbformat": 4,
 "nbformat_minor": 2
}
